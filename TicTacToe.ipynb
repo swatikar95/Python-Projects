{
 "cells": [
  {
   "cell_type": "code",
   "execution_count": 1,
   "metadata": {
    "colab": {},
    "colab_type": "code",
    "collapsed": true,
    "executionInfo": {
     "elapsed": 1072,
     "status": "ok",
     "timestamp": 1599976349456,
     "user": {
      "displayName": "Shuvangkar Shuvo",
      "photoUrl": "https://lh3.googleusercontent.com/a-/AOh14Gjcw9fUWFHKuFOQ-UHsbk0OXbSysPInyq5xcGo-bw=s64",
      "userId": "17078550964611663958"
     },
     "user_tz": -360
    },
    "id": "0E7fu2DjSsIB"
   },
   "outputs": [],
   "source": [
    "#first display the board\n",
    "from IPython.display import clear_output\n",
    "def display_board(board):\n",
    "  clear_output() #it will clear diaplay_board after game\n",
    "  \n",
    "  print(board[1]+'|'+board[2]+'|'+board[3])\n",
    "  print('-----')\n",
    "  print(board[4]+'|'+board[5]+'|'+board[6])\n",
    "  print('-----')\n",
    "  print(board[7]+'|'+board[8]+'|'+board[9])"
   ]
  },
  {
   "cell_type": "code",
   "execution_count": 2,
   "metadata": {
    "colab": {
     "base_uri": "https://localhost:8080/",
     "height": 104
    },
    "colab_type": "code",
    "executionInfo": {
     "elapsed": 1051,
     "status": "ok",
     "timestamp": 1599976351836,
     "user": {
      "displayName": "Shuvangkar Shuvo",
      "photoUrl": "https://lh3.googleusercontent.com/a-/AOh14Gjcw9fUWFHKuFOQ-UHsbk0OXbSysPInyq5xcGo-bw=s64",
      "userId": "17078550964611663958"
     },
     "user_tz": -360
    },
    "id": "i9cyRrIlk322",
    "outputId": "eb043aaa-2b9e-4624-ea8c-6621f3cdbdf9"
   },
   "outputs": [
    {
     "name": "stdout",
     "output_type": "stream",
     "text": [
      "0|X|0\n",
      "-----\n",
      "X|0|X\n",
      "-----\n",
      "0|X|0\n"
     ]
    }
   ],
   "source": [
    "test_board=['*','0','X','0','X','0','X','0','X','0']\n",
    "display_board(test_board)"
   ]
  },
  {
   "cell_type": "code",
   "execution_count": 3,
   "metadata": {
    "colab": {},
    "colab_type": "code",
    "collapsed": true,
    "executionInfo": {
     "elapsed": 1142,
     "status": "ok",
     "timestamp": 1599976549879,
     "user": {
      "displayName": "Shuvangkar Shuvo",
      "photoUrl": "https://lh3.googleusercontent.com/a-/AOh14Gjcw9fUWFHKuFOQ-UHsbk0OXbSysPInyq5xcGo-bw=s64",
      "userId": "17078550964611663958"
     },
     "user_tz": -360
    },
    "id": "A_c5MmZdl4Uz"
   },
   "outputs": [],
   "source": [
    "# a function that can take in a player input and assign their marker as 'X' or 'O'\n",
    "def player_marker():\n",
    "  marker = ''\n",
    "\n",
    "  while not (marker=='0' or marker=='X'):\n",
    "    marker = input('Please enter 0 or X:').upper()\n",
    "\n",
    "  if marker == 'X':\n",
    "    return ('X','0')\n",
    "  else:\n",
    "    return ('0','X')\n"
   ]
  },
  {
   "cell_type": "code",
   "execution_count": 4,
   "metadata": {
    "colab": {
     "base_uri": "https://localhost:8080/",
     "height": 287
    },
    "colab_type": "code",
    "executionInfo": {
     "elapsed": 1033,
     "status": "error",
     "timestamp": 1599976559804,
     "user": {
      "displayName": "Shuvangkar Shuvo",
      "photoUrl": "https://lh3.googleusercontent.com/a-/AOh14Gjcw9fUWFHKuFOQ-UHsbk0OXbSysPInyq5xcGo-bw=s64",
      "userId": "17078550964611663958"
     },
     "user_tz": -360
    },
    "id": "CqC8_QNhnBIO",
    "outputId": "b75a0585-4d22-4b0d-a2fc-9ed0d8bf3a1e"
   },
   "outputs": [
    {
     "name": "stdout",
     "output_type": "stream",
     "text": [
      "Please enter 0 or X:0\n"
     ]
    },
    {
     "data": {
      "text/plain": [
       "('0', 'X')"
      ]
     },
     "execution_count": 4,
     "metadata": {},
     "output_type": "execute_result"
    }
   ],
   "source": [
    "player_marker()"
   ]
  },
  {
   "cell_type": "code",
   "execution_count": 5,
   "metadata": {
    "colab": {},
    "colab_type": "code",
    "collapsed": true,
    "executionInfo": {
     "elapsed": 1031,
     "status": "ok",
     "timestamp": 1599970664641,
     "user": {
      "displayName": "Shuvangkar Shuvo",
      "photoUrl": "https://lh3.googleusercontent.com/a-/AOh14Gjcw9fUWFHKuFOQ-UHsbk0OXbSysPInyq5xcGo-bw=s64",
      "userId": "17078550964611663958"
     },
     "user_tz": -360
    },
    "id": "v3At8CUspr-o"
   },
   "outputs": [],
   "source": [
    "def win_check(board,marker):\n",
    "  # row,column and diagonal wise\n",
    "  return ((board[1] == board[2] ==board[3]==marker) or\n",
    "      (board[4] == board[5] ==board[6]==marker) or\n",
    "      (board[7] == board[8] ==board[9]==marker) or\n",
    "      (board[1] == board[4] ==board[7]==marker) or\n",
    "      (board[2] == board[5] ==board[8]==marker) or\n",
    "      (board[3] == board[6] ==board[9]==marker) or\n",
    "      (board[1] == board[5] ==board[9]==marker) or\n",
    "      (board[3] == board[5] ==board[7]==marker))"
   ]
  },
  {
   "cell_type": "code",
   "execution_count": 6,
   "metadata": {
    "colab": {
     "base_uri": "https://localhost:8080/",
     "height": 35
    },
    "colab_type": "code",
    "executionInfo": {
     "elapsed": 1059,
     "status": "ok",
     "timestamp": 1599970820509,
     "user": {
      "displayName": "Shuvangkar Shuvo",
      "photoUrl": "https://lh3.googleusercontent.com/a-/AOh14Gjcw9fUWFHKuFOQ-UHsbk0OXbSysPInyq5xcGo-bw=s64",
      "userId": "17078550964611663958"
     },
     "user_tz": -360
    },
    "id": "mVNV_7hcrrt7",
    "outputId": "329d07cd-d4b0-4972-9c74-d6bf97984cc4"
   },
   "outputs": [
    {
     "data": {
      "text/plain": [
       "True"
      ]
     },
     "execution_count": 6,
     "metadata": {},
     "output_type": "execute_result"
    }
   ],
   "source": [
    "win_check(test_board,'0')"
   ]
  },
  {
   "cell_type": "code",
   "execution_count": 7,
   "metadata": {
    "colab": {},
    "colab_type": "code",
    "collapsed": true,
    "executionInfo": {
     "elapsed": 1223,
     "status": "ok",
     "timestamp": 1599971023478,
     "user": {
      "displayName": "Shuvangkar Shuvo",
      "photoUrl": "https://lh3.googleusercontent.com/a-/AOh14Gjcw9fUWFHKuFOQ-UHsbk0OXbSysPInyq5xcGo-bw=s64",
      "userId": "17078550964611663958"
     },
     "user_tz": -360
    },
    "id": "wiy5dFA6sVFQ"
   },
   "outputs": [],
   "source": [
    "#identify which position the marker will be placed\n",
    "def marker_position(board,position,marker):\n",
    "  board[position]=marker"
   ]
  },
  {
   "cell_type": "code",
   "execution_count": 8,
   "metadata": {
    "colab": {
     "base_uri": "https://localhost:8080/",
     "height": 104
    },
    "colab_type": "code",
    "executionInfo": {
     "elapsed": 1447,
     "status": "ok",
     "timestamp": 1599971088552,
     "user": {
      "displayName": "Shuvangkar Shuvo",
      "photoUrl": "https://lh3.googleusercontent.com/a-/AOh14Gjcw9fUWFHKuFOQ-UHsbk0OXbSysPInyq5xcGo-bw=s64",
      "userId": "17078550964611663958"
     },
     "user_tz": -360
    },
    "id": "zEQ4tb6YtGLx",
    "outputId": "46c65554-5e55-4b63-ccbf-4d7305129632"
   },
   "outputs": [
    {
     "name": "stdout",
     "output_type": "stream",
     "text": [
      "0|X|0\n",
      "-----\n",
      "X|$|X\n",
      "-----\n",
      "0|X|0\n"
     ]
    }
   ],
   "source": [
    "marker_position(test_board,5,'$')\n",
    "display_board(test_board)"
   ]
  },
  {
   "cell_type": "code",
   "execution_count": 9,
   "metadata": {
    "colab": {},
    "colab_type": "code",
    "collapsed": true,
    "executionInfo": {
     "elapsed": 1030,
     "status": "ok",
     "timestamp": 1599971657702,
     "user": {
      "displayName": "Shuvangkar Shuvo",
      "photoUrl": "https://lh3.googleusercontent.com/a-/AOh14Gjcw9fUWFHKuFOQ-UHsbk0OXbSysPInyq5xcGo-bw=s64",
      "userId": "17078550964611663958"
     },
     "user_tz": -360
    },
    "id": "l4nhbPdzueBB"
   },
   "outputs": [],
   "source": [
    "#randomly choose which player will go first\n",
    "import random\n",
    "def choose_first():\n",
    "  if (random.randint(0,1))==0:\n",
    "    return 'Player1'\n",
    "  else:\n",
    "    return 'Player2'"
   ]
  },
  {
   "cell_type": "code",
   "execution_count": 10,
   "metadata": {
    "colab": {
     "base_uri": "https://localhost:8080/",
     "height": 35
    },
    "colab_type": "code",
    "executionInfo": {
     "elapsed": 1121,
     "status": "ok",
     "timestamp": 1599971717388,
     "user": {
      "displayName": "Shuvangkar Shuvo",
      "photoUrl": "https://lh3.googleusercontent.com/a-/AOh14Gjcw9fUWFHKuFOQ-UHsbk0OXbSysPInyq5xcGo-bw=s64",
      "userId": "17078550964611663958"
     },
     "user_tz": -360
    },
    "id": "hRejDoDavhCd",
    "outputId": "6bdd3cd0-8e44-4cbb-a871-f957d03198d2"
   },
   "outputs": [
    {
     "data": {
      "text/plain": [
       "'Player2'"
      ]
     },
     "execution_count": 10,
     "metadata": {},
     "output_type": "execute_result"
    }
   ],
   "source": [
    "choose_first()"
   ]
  },
  {
   "cell_type": "code",
   "execution_count": 11,
   "metadata": {
    "colab": {},
    "colab_type": "code",
    "collapsed": true,
    "executionInfo": {
     "elapsed": 1077,
     "status": "ok",
     "timestamp": 1599973717434,
     "user": {
      "displayName": "Shuvangkar Shuvo",
      "photoUrl": "https://lh3.googleusercontent.com/a-/AOh14Gjcw9fUWFHKuFOQ-UHsbk0OXbSysPInyq5xcGo-bw=s64",
      "userId": "17078550964611663958"
     },
     "user_tz": -360
    },
    "id": "_SnoxFq52qFm"
   },
   "outputs": [],
   "source": [
    "def empty_check(board,position):\n",
    "  return board[position] == \" \""
   ]
  },
  {
   "cell_type": "code",
   "execution_count": 12,
   "metadata": {},
   "outputs": [
    {
     "data": {
      "text/plain": [
       "False"
      ]
     },
     "execution_count": 12,
     "metadata": {},
     "output_type": "execute_result"
    }
   ],
   "source": [
    "empty_check(test_board,4)"
   ]
  },
  {
   "cell_type": "code",
   "execution_count": 13,
   "metadata": {
    "colab": {},
    "colab_type": "code",
    "collapsed": true,
    "executionInfo": {
     "elapsed": 1100,
     "status": "ok",
     "timestamp": 1599973955227,
     "user": {
      "displayName": "Shuvangkar Shuvo",
      "photoUrl": "https://lh3.googleusercontent.com/a-/AOh14Gjcw9fUWFHKuFOQ-UHsbk0OXbSysPInyq5xcGo-bw=s64",
      "userId": "17078550964611663958"
     },
     "user_tz": -360
    },
    "id": "s77YYTKfv0aC"
   },
   "outputs": [],
   "source": [
    "#now check empty space to mark\n",
    "def full_check(board):\n",
    "  for i in range(1,10):\n",
    "    if empty_check(board,i):\n",
    "      return False\n",
    "  return True #if there is no empty apace"
   ]
  },
  {
   "cell_type": "code",
   "execution_count": 14,
   "metadata": {
    "colab": {
     "base_uri": "https://localhost:8080/",
     "height": 35
    },
    "colab_type": "code",
    "executionInfo": {
     "elapsed": 1078,
     "status": "ok",
     "timestamp": 1599973762654,
     "user": {
      "displayName": "Shuvangkar Shuvo",
      "photoUrl": "https://lh3.googleusercontent.com/a-/AOh14Gjcw9fUWFHKuFOQ-UHsbk0OXbSysPInyq5xcGo-bw=s64",
      "userId": "17078550964611663958"
     },
     "user_tz": -360
    },
    "id": "fkZZSHRxw3IZ",
    "outputId": "e5ae3173-0da1-406a-a713-ca5e2883aae2"
   },
   "outputs": [
    {
     "data": {
      "text/plain": [
       "True"
      ]
     },
     "execution_count": 14,
     "metadata": {},
     "output_type": "execute_result"
    }
   ],
   "source": [
    "full_check(test_board)"
   ]
  },
  {
   "cell_type": "code",
   "execution_count": 15,
   "metadata": {
    "colab": {},
    "colab_type": "code",
    "collapsed": true,
    "executionInfo": {
     "elapsed": 1033,
     "status": "ok",
     "timestamp": 1599974100272,
     "user": {
      "displayName": "Shuvangkar Shuvo",
      "photoUrl": "https://lh3.googleusercontent.com/a-/AOh14Gjcw9fUWFHKuFOQ-UHsbk0OXbSysPInyq5xcGo-bw=s64",
      "userId": "17078550964611663958"
     },
     "user_tz": -360
    },
    "id": "vRCsH7SVyMc6"
   },
   "outputs": [],
   "source": [
    "def user_position(board):\n",
    "  position = 0\n",
    "  while position not in [1,2,3,4,5,6,7,8,9] or not empty_check(board,position):\n",
    "    position = int(input('Enter a number between (1-9):'))\n",
    "  return position\n"
   ]
  },
  {
   "cell_type": "code",
   "execution_count": 16,
   "metadata": {
    "colab": {},
    "colab_type": "code",
    "collapsed": true,
    "executionInfo": {
     "elapsed": 1626,
     "status": "ok",
     "timestamp": 1599976152934,
     "user": {
      "displayName": "Shuvangkar Shuvo",
      "photoUrl": "https://lh3.googleusercontent.com/a-/AOh14Gjcw9fUWFHKuFOQ-UHsbk0OXbSysPInyq5xcGo-bw=s64",
      "userId": "17078550964611663958"
     },
     "user_tz": -360
    },
    "id": "37TZ0CKB42dM"
   },
   "outputs": [],
   "source": [
    "def replay():\n",
    "  return input('Do you want to play again?yes or no:').lower().startswith('y')"
   ]
  },
  {
   "cell_type": "code",
   "execution_count": 18,
   "metadata": {
    "colab": {
     "base_uri": "https://localhost:8080/",
     "height": 374
    },
    "colab_type": "code",
    "executionInfo": {
     "elapsed": 1087,
     "status": "error",
     "timestamp": 1599976170575,
     "user": {
      "displayName": "Shuvangkar Shuvo",
      "photoUrl": "https://lh3.googleusercontent.com/a-/AOh14Gjcw9fUWFHKuFOQ-UHsbk0OXbSysPInyq5xcGo-bw=s64",
      "userId": "17078550964611663958"
     },
     "user_tz": -360
    },
    "id": "Ce4NcxVv5Q5U",
    "outputId": "99969129-dc38-4090-a37a-c334eea1ef8b"
   },
   "outputs": [
    {
     "name": "stdout",
     "output_type": "stream",
     "text": [
      " |0|X\n",
      "-----\n",
      "0|X|0\n",
      "-----\n",
      "X| | \n",
      "congratz!u have won!\n",
      "Do you want to play again?yes or no:8\n"
     ]
    }
   ],
   "source": [
    "print(\"Welcome to TicTacToe Game!\")\n",
    "\n",
    "while True:\n",
    "\n",
    "  main_board = [' ']*10\n",
    "  player1_input,player2_input = player_marker()\n",
    "  turn = choose_first()\n",
    "\n",
    "  play_game = input('Are you ready to play?yes or no: ')\n",
    "\n",
    "  if play_game.lower()[0] == 'y':\n",
    "    game_on = True\n",
    "  else:\n",
    "    game_on = False\n",
    "\n",
    "  while game_on:\n",
    "    if turn == 'Player1':\n",
    "      display_board(main_board)\n",
    "      position = user_position(main_board)\n",
    "      marker_position(main_board,position,player1_input)\n",
    "\n",
    "      if win_check(main_board,player1_input):\n",
    "        display_board(main_board)\n",
    "        print('congratz!u have won!')\n",
    "        game_on = False\n",
    "      else:\n",
    "        if full_check(main_board):\n",
    "          print(\"It's a tie!\")\n",
    "          break\n",
    "        else:\n",
    "          turn = 'Player2'\n",
    "    \n",
    "    else:\n",
    "      display_board(main_board)\n",
    "      position = user_position(main_board)\n",
    "      marker_position(main_board,position,player2_input)\n",
    "\n",
    "      if win_check(main_board,player2_input):\n",
    "        display_board(main_board)\n",
    "        print('congratz!u have won!')\n",
    "        game_on = False\n",
    "      else:\n",
    "        if full_check(main_board):\n",
    "          print(\"It's a tie!\")\n",
    "          break\n",
    "        else:\n",
    "          turn = 'Player1'\n",
    "\n",
    "  if not replay():\n",
    "      break"
   ]
  },
  {
   "cell_type": "code",
   "execution_count": null,
   "metadata": {
    "collapsed": true
   },
   "outputs": [],
   "source": []
  },
  {
   "cell_type": "code",
   "execution_count": null,
   "metadata": {
    "collapsed": true
   },
   "outputs": [],
   "source": []
  }
 ],
 "metadata": {
  "colab": {
   "authorship_tag": "ABX9TyNjMB/WcH3SjI5mnkhhohff",
   "name": "TicTacToe.ipynb",
   "provenance": []
  },
  "kernelspec": {
   "display_name": "Python 3",
   "language": "python",
   "name": "python3"
  },
  "language_info": {
   "codemirror_mode": {
    "name": "ipython",
    "version": 3
   },
   "file_extension": ".py",
   "mimetype": "text/x-python",
   "name": "python",
   "nbconvert_exporter": "python",
   "pygments_lexer": "ipython3",
   "version": "3.6.3"
  }
 },
 "nbformat": 4,
 "nbformat_minor": 1
}
