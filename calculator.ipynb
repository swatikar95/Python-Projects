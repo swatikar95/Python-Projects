{
 "cells": [
  {
   "cell_type": "code",
   "execution_count": 2,
   "metadata": {
    "colab": {},
    "colab_type": "code",
    "collapsed": true,
    "executionInfo": {
     "elapsed": 962,
     "status": "ok",
     "timestamp": 1599715077498,
     "user": {
      "displayName": "Shuvangkar Shuvo",
      "photoUrl": "https://lh3.googleusercontent.com/a-/AOh14Gjcw9fUWFHKuFOQ-UHsbk0OXbSysPInyq5xcGo-bw=s64",
      "userId": "17078550964611663958"
     },
     "user_tz": -360
    },
    "id": "rjEHBw8qYjh5"
   },
   "outputs": [],
   "source": [
    "def calc():\n",
    "  input1 = int(input(\"enter a number:\"))\n",
    "  input2 = int(input(\"enter another number:\"))\n",
    "  operation = input(\"Which operation do u want to perform?1.+ 2.- 3.* 4./\")\n",
    "\n",
    "  if operation == '1':\n",
    "    return input1+input2\n",
    "  elif operation == '2':\n",
    "    return input1-input2\n",
    "  elif operation == '3':\n",
    "    return input1*input2\n",
    "  elif operation == '4':\n",
    "    return input1/input2\n",
    "  else:\n",
    "    return 0"
   ]
  },
  {
   "cell_type": "code",
   "execution_count": null,
   "metadata": {
    "colab": {
     "base_uri": "https://localhost:8080/",
     "height": 87
    },
    "colab_type": "code",
    "executionInfo": {
     "elapsed": 10022,
     "status": "ok",
     "timestamp": 1599715089813,
     "user": {
      "displayName": "Shuvangkar Shuvo",
      "photoUrl": "https://lh3.googleusercontent.com/a-/AOh14Gjcw9fUWFHKuFOQ-UHsbk0OXbSysPInyq5xcGo-bw=s64",
      "userId": "17078550964611663958"
     },
     "user_tz": -360
    },
    "id": "_Am4M7eyZ3S5",
    "outputId": "27dbc1b8-17f6-4847-8219-3c348fdbbd02"
   },
   "outputs": [
    {
     "name": "stdout",
     "output_type": "stream",
     "text": [
      "enter a number:2\n",
      "enter another number:3\n",
      "Which operation do u want to perform?1.+ 2.- 3.* 4./4\n"
     ]
    },
    {
     "data": {
      "text/plain": [
       "0.6666666666666666"
      ]
     },
     "execution_count": 3,
     "metadata": {},
     "output_type": "execute_result"
    }
   ],
   "source": [
    "calc()"
   ]
  },
  {
   "cell_type": "code",
   "execution_count": 34,
   "metadata": {},
   "outputs": [],
   "source": [
    "from tkinter import *\n",
    "window = Tk()\n",
    "window.geometry(\"312x324\") #size of window;width 300,height324\n",
    "window.resizable(0,0) #prevent from resizeing window\n",
    "window.title('Calculator')\n",
    "\n",
    "# btn_clk function will continuously update the input field\n",
    "def press(item):\n",
    "    global expression\n",
    "    expression = expression + str(item) #expression sets latest value,str(item) importing value\n",
    "    input_text.set(expression)\n",
    "    \n",
    "def btn_equal():\n",
    "    global expression\n",
    "    result = str(eval(expression)) #eval function svaluates strings directly\n",
    "    input_text.set(result)\n",
    "    expression= \"\" #initialize by empty string\n",
    "    \n",
    "def btn_clear():\n",
    "    global expression\n",
    "    expression=\"\"\n",
    "    input_text.set(\"\")\n",
    "    \n",
    "# expression = \"\"\n",
    "input_text = StringVar() #stringVar is used to get the instance of input field\n",
    "\n",
    "\n",
    "\n",
    "# # create a text box for taking input expression\n",
    "expression_field= Entry(window,textvariable=input_text)\n",
    "expression_field.grid(columnspan=8,ipadx=90,ipady=10)\n",
    "input_text.set(\" \")\n",
    "\n",
    "#creating buttons of calculator\n",
    "btn1 = Button(window,text='1',bg='white',fg='black',command=lambda:press(1),height=3,width=9)\n",
    "btn1.grid(row=2,column=0)\n",
    "\n",
    "btn2 = Button(window,text='2',bg='white',fg='black',command=lambda:press(2),height=3,width=9)\n",
    "btn2.grid(row=2,column=1)\n",
    "\n",
    "btn3 = Button(window,text='3',bg='white',fg='black',command=lambda:press(3),height=3,width=9)\n",
    "btn3.grid(row=2,column=2)\n",
    "\n",
    "btn4 = Button(window,text='4',bg='white',fg='black',command=lambda:press(4),height=3,width=9)\n",
    "btn4.grid(row=3,column=0)\n",
    "\n",
    "btn5 = Button(window,text='5',bg='white',fg='black',command=lambda:press(5),height=3,width=9)\n",
    "btn5.grid(row=3,column=1)\n",
    "\n",
    "btn6 = Button(window,text='6',bg='white',fg='black',command=lambda:press(6),height=3,width=9)\n",
    "btn6.grid(row=3,column=2)\n",
    "\n",
    "btn7 = Button(window,text='7',bg='white',fg='black',command=lambda:press(7),height=3,width=9)\n",
    "btn7.grid(row=4,column=0)\n",
    "\n",
    "btn8 = Button(window,text='8',bg='white',fg='black',command=lambda:press(8),height=3,width=9)\n",
    "btn8.grid(row=4,column=1)\n",
    "\n",
    "btn9 = Button(window,text='9',bg='white',fg='black',command=lambda:press(9),height=3,width=9)\n",
    "btn9.grid(row=4,column=2)\n",
    "\n",
    "btn0 = Button(window,text='0',bg='white',fg='black',command=lambda:press(0),height=3,width=9)\n",
    "btn0.grid(row=5,column=0)\n",
    "\n",
    "plus = Button(window,text='+',bg='white',fg='black',command=lambda:press(\"+\"),height=3,width=9)\n",
    "plus.grid(row=2,column=3)\n",
    "\n",
    "mainus = Button(window,text='-',bg='white',fg='black',command=lambda:press(\"-\"),height=3,width=9)\n",
    "mainus.grid(row=3,column=3)\n",
    "\n",
    "multiplication = Button(window,text='*',bg='white',fg='black',command=lambda:press('*'),height=3,width=9)\n",
    "multiplication.grid(row=4,column=3)\n",
    "\n",
    "division = Button(window,text='/',bg='white',fg='black',command=lambda:press('/'),height=3,width=9)\n",
    "division.grid(row=5,column=3)\n",
    "\n",
    "point = Button(window,text='.',bg='white',fg='black',command=lambda:press('.'),height=3,width=9)\n",
    "point.grid(row=5,column=1)\n",
    "\n",
    "clear = Button(window,text='DEL',bg='white',fg='black',command=btn_clear,height=3,width=9)\n",
    "clear.grid(row=5,column=2)\n",
    "\n",
    "equal = Button(window,text='=',bg='white',fg='black',command=btn_equal,height=3,width=9)\n",
    "equal.grid(row=5,column=3)\n",
    "\n",
    "window.mainloop()"
   ]
  }
 ],
 "metadata": {
  "colab": {
   "authorship_tag": "ABX9TyNcn5JL0qOQKMKzyIgWdPRK",
   "name": "calculator.ipynb",
   "provenance": []
  },
  "kernelspec": {
   "display_name": "Python 3",
   "language": "python",
   "name": "python3"
  },
  "language_info": {
   "codemirror_mode": {
    "name": "ipython",
    "version": 3
   },
   "file_extension": ".py",
   "mimetype": "text/x-python",
   "name": "python",
   "nbconvert_exporter": "python",
   "pygments_lexer": "ipython3",
   "version": "3.6.3"
  }
 },
 "nbformat": 4,
 "nbformat_minor": 1
}
